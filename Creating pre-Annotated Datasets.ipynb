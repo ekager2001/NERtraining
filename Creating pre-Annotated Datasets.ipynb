{
 "cells": [
  {
   "cell_type": "markdown",
   "id": "dea7b706",
   "metadata": {},
   "source": [
    "# Gather 100 Random Resumes, Gather 100 Random Job Descriptions"
   ]
  },
  {
   "cell_type": "code",
   "execution_count": 2,
   "id": "f373c7ef",
   "metadata": {},
   "outputs": [],
   "source": [
    "import pandas as pd\n",
    "import numpy as np\n",
    "import re"
   ]
  },
  {
   "cell_type": "code",
   "execution_count": 3,
   "id": "73504e86",
   "metadata": {},
   "outputs": [],
   "source": [
    "jobPostings =  pd.read_csv('data/JobPostings.csv', encoding='ISO-8859-1') #56 Indeed Webscraped Jobs\n",
    "testPostings = pd.read_csv('data/TestPostings.csv', encoding='ISO-8859-1') #19 Indeed webscraped jobs\n",
    "\n",
    "df = pd.read_csv(\"data/Resume.csv\") #Resumes\n",
    "df = df.reindex(np.random.permutation(df.index))\n",
    "df2 = pd.read_csv(\"data/reed_uk.csv\") #Job descriptions\n",
    "df2 = df2.reindex(np.random.permutation(df2.index))\n",
    "data = df.copy().iloc[\n",
    "    0:100,\n",
    "]\n",
    "dataJobDesc = df2.copy().iloc[\n",
    "    0:100,\n",
    "]\n",
    "\n",
    "df = pd.read_csv(\"data/Resume.csv\") #Resumes\n",
    "df = df.reindex(np.random.permutation(df.index))\n",
    "dataForJobPostings = df.copy().iloc[\n",
    "    0:55,\n",
    "]\n",
    "\n",
    "df = pd.read_csv(\"data/Resume.csv\") #Resumes\n",
    "df = df.reindex(np.random.permutation(df.index))\n",
    "dataForTestPostings = df.copy().iloc[\n",
    "    0:19,\n",
    "]"
   ]
  },
  {
   "cell_type": "markdown",
   "id": "503b1524",
   "metadata": {},
   "source": [
    "# Clean Data"
   ]
  },
  {
   "cell_type": "code",
   "execution_count": 4,
   "id": "3f7cef11",
   "metadata": {},
   "outputs": [],
   "source": [
    "def cleaner(data):\n",
    "    clean = []\n",
    "    for i in range(data.shape[0]):\n",
    "        review = re.sub(\n",
    "            '(@[A-Za-z0-9]+)|([^0-9A-Za-z \\t])|(\\w+:\\/\\/\\S+)|^rt|http.+?\"',\n",
    "            \" \",\n",
    "            data[\"Resume_str\"].iloc[i],\n",
    "        )\n",
    "        review = review.lower()\n",
    "        review = review.split()\n",
    "        \"\"\"\n",
    "        lm = WordNetLemmatizer()\n",
    "        review = [\n",
    "            lm.lemmatize(word)\n",
    "            for word in review\n",
    "            if not word in set(stopwords.words(\"english\"))\n",
    "        ]\n",
    "        \"\"\"\n",
    "        review = \" \".join(review)\n",
    "        clean.append(review)\n",
    "    return clean\n"
   ]
  },
  {
   "cell_type": "code",
   "execution_count": 5,
   "id": "f724c790",
   "metadata": {},
   "outputs": [],
   "source": [
    "#CLEANED RESUME\n",
    "#100 resumes\n",
    "clean = cleaner(data)\n",
    "data[\"Clean_Resume\"] = clean\n",
    "\n",
    "#56 resumes\n",
    "clean = cleaner(dataForJobPostings)\n",
    "dataForJobPostings[\"Clean_Resume\"] = clean\n",
    "\n",
    "#19 jobDescirptions\n",
    "clean = cleaner(dataForTestPostings)\n",
    "dataForTestPostings[\"Clean_Resume\"] = clean\n",
    "\n",
    "# 100 jobDescriptions\n",
    "dataJobDesc.rename(columns={'job_description':'Resume_str'},inplace=True)\n",
    "cleanJobsDesc = cleaner(dataJobDesc)\n",
    "dataJobDesc[\"Clean_Resume\"] = cleanJobsDesc\n",
    "\n",
    "#56 jobDescriptions\n",
    "\n",
    "jobPostings.rename(columns={'Job Description':'Resume_str'},inplace=True)\n",
    "cleanJobsDesc = cleaner(jobPostings)\n",
    "jobPostings[\"Clean_Resume\"] = cleanJobsDesc\n",
    "\n",
    "#19 jobDescriptions\n",
    "\n",
    "testPostings.rename(columns={'Job Description':'Resume_str'},inplace=True)\n",
    "cleanJobsDesc = cleaner(testPostings)\n",
    "testPostings[\"Clean_Resume\"] = cleanJobsDesc\n"
   ]
  },
  {
   "cell_type": "markdown",
   "id": "e9406c8c",
   "metadata": {},
   "source": [
    "# Example of cleaning:"
   ]
  },
  {
   "cell_type": "markdown",
   "id": "cf40826f",
   "metadata": {},
   "source": [
    "Before"
   ]
  },
  {
   "cell_type": "code",
   "execution_count": 32,
   "id": "273b3c68",
   "metadata": {},
   "outputs": [
    {
     "data": {
      "text/plain": [
       "\"  Mpeople Recruitment are excited to be recruiting for a  Bookseller  for our extremely well established client who are based in Oldham.  Are you passionate and knowledgeable about childrenâ\\x80\\x99s books?   Role:  Bookseller   Location:  Oldham   Salary:  Â£20,000 per annum   Hours of work:   Monday to Friday 9am â\\x80\\x93 5:30pm   Lunch:   1 hour   Benefits:    Â· 20% discount on all books and products  Â· Free parking  Â· Onsite canteen  As a Bookseller you will be the first person who all visitors see, you will need to have a professional manor, be organized and be able to take full responsibility for the showroom area.   Duties will include  :     Meeting and greeting all visitors to the showroom  Replenishing stock onto the shelves  Answering incoming phone calls and transferring them to the reinvent department  Taking orders from schools and the general public  Assisting teachers select books for their classroom and school libraries  Providing product information  Helping to arrange large orders to be sent out to schools   Having knowledge of literature would be an advantage for this role.  Please note that Mpeople cannot respond to all applicants due to the high volumes of CV's received on a daily basis. Should you not receive a response within 5 working days please accept that on this occasion your application hasnâ\\x80\\x99t been successful. Mpeople wishes you all the best in your job search.  Reference ID: ANP  Job Types: Full-time, Permanent  Salary: Â£20,000.00 per year  Schedule:   Monday to Friday   Work remotely:   No   \""
      ]
     },
     "execution_count": 32,
     "metadata": {},
     "output_type": "execute_result"
    }
   ],
   "source": [
    "jobPostings['Resume_str'].iloc[40]"
   ]
  },
  {
   "cell_type": "markdown",
   "id": "18964ed9",
   "metadata": {},
   "source": [
    "After"
   ]
  },
  {
   "cell_type": "code",
   "execution_count": 33,
   "id": "baba3c8e",
   "metadata": {},
   "outputs": [
    {
     "data": {
      "text/plain": [
       "'mpeople recruitment are excited to be recruiting for a bookseller for our extremely well established client who are based in oldham are you passionate and knowledgeable about children s books role bookseller location oldham salary 20 000 per annum hours of work monday to friday 9am 5 30pm lunch 1 hour benefits 20 discount on all books and products free parking onsite canteen as a bookseller you will be the first person who all visitors see you will need to have a professional manor be organized and be able to take full responsibility for the showroom area duties will include meeting and greeting all visitors to the showroom replenishing stock onto the shelves answering incoming phone calls and transferring them to the reinvent department taking orders from schools and the general public assisting teachers select books for their classroom and school libraries providing product information helping to arrange large orders to be sent out to schools having knowledge of literature would be an advantage for this role please note that mpeople cannot respond to all applicants due to the high volumes of cv s received on a daily basis should you not receive a response within 5 working days please accept that on this occasion your application hasn t been successful mpeople wishes you all the best in your job search reference id anp job types full time permanent salary 20 000 00 per year schedule monday to friday work remotely no'"
      ]
     },
     "execution_count": 33,
     "metadata": {},
     "output_type": "execute_result"
    }
   ],
   "source": [
    "jobPostings['Clean_Resume'].iloc[40]"
   ]
  },
  {
   "cell_type": "markdown",
   "id": "bb564c9d",
   "metadata": {},
   "source": [
    "# Write dataset File (100 Job descriptions)"
   ]
  },
  {
   "cell_type": "code",
   "execution_count": 12,
   "id": "8c44bafc",
   "metadata": {},
   "outputs": [],
   "source": [
    "with open (\"data/dataset.txt\", 'w', encoding=\"utf-8\") as f:\n",
    "    for job in dataJobDesc[\"Clean_Resume\"]:\n",
    "        f.write(job +\"\\n\")"
   ]
  },
  {
   "cell_type": "markdown",
   "id": "90abbfb9",
   "metadata": {},
   "source": [
    "# Write dataset File (56 Job descriptions, 56 Resumes)"
   ]
  },
  {
   "cell_type": "code",
   "execution_count": 10,
   "id": "4294c353",
   "metadata": {},
   "outputs": [],
   "source": [
    "with open (\"data/dataset2.txt\", 'w', encoding=\"utf-8\") as f:\n",
    "    for job in jobPostings[\"Clean_Resume\"]:\n",
    "        f.write(job +\"\\n\")\n",
    "    for job in dataForJobPostings[\"Clean_Resume\"]:\n",
    "        f.write(job +\"\\n\")"
   ]
  },
  {
   "cell_type": "markdown",
   "id": "a13f986a",
   "metadata": {},
   "source": [
    "# Write dataset File (19 Job descriptions, 19 Resumes)"
   ]
  },
  {
   "cell_type": "code",
   "execution_count": 11,
   "id": "0f900be5",
   "metadata": {},
   "outputs": [],
   "source": [
    "with open (\"data/dataset3.txt\", 'w', encoding=\"utf-8\") as f:\n",
    "    for job in testPostings[\"Clean_Resume\"]:\n",
    "        f.write(job +\"\\n\")\n",
    "    for job in dataForTestPostings[\"Clean_Resume\"]:\n",
    "        f.write(job +\"\\n\")"
   ]
  },
  {
   "cell_type": "code",
   "execution_count": null,
   "id": "0ab10b59",
   "metadata": {},
   "outputs": [],
   "source": []
  }
 ],
 "metadata": {
  "kernelspec": {
   "display_name": "Python 3 (ipykernel)",
   "language": "python",
   "name": "python3"
  },
  "language_info": {
   "codemirror_mode": {
    "name": "ipython",
    "version": 3
   },
   "file_extension": ".py",
   "mimetype": "text/x-python",
   "name": "python",
   "nbconvert_exporter": "python",
   "pygments_lexer": "ipython3",
   "version": "3.9.7"
  }
 },
 "nbformat": 4,
 "nbformat_minor": 5
}
